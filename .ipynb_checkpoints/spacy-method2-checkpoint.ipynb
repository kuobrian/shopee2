{
 "cells": [
  {
   "cell_type": "code",
   "execution_count": 20,
   "metadata": {},
   "outputs": [],
   "source": [
    "filter_df = pd.read_csv(\"./preprocess_data/filter_split.csv\")\n",
    "filter_ids = filter_df['id'].to_list()"
   ]
  },
  {
   "cell_type": "code",
   "execution_count": 21,
   "metadata": {},
   "outputs": [],
   "source": [
    "poi_df = pd.read_csv(\"./preprocess_data/filter_POI.csv\")\n",
    "poi_ids = filter_df['id'].to_list()"
   ]
  },
  {
   "cell_type": "code",
   "execution_count": 22,
   "metadata": {},
   "outputs": [],
   "source": [
    "street_df = pd.read_csv(\"./preprocess_data/filter_street.csv\")\n",
    "street_df = filter_df['id'].to_list()"
   ]
  },
  {
   "cell_type": "code",
   "execution_count": null,
   "metadata": {},
   "outputs": [],
   "source": [
    "nan_df = pd.read_csv(\"./preprocess_data/no_ans.csv\")\n",
    "nan_df = filter_df['id'].to_list()"
   ]
  },
  {
   "cell_type": "code",
   "execution_count": 23,
   "metadata": {},
   "outputs": [],
   "source": [
    "import json\n",
    "with open(\"./preprocess_data/entitie.json\", \"r\") as read_file:\n",
    "    objects = json.load(read_file)\n",
    "TRAINING_DATA = []\n",
    "for data in objects:\n",
    "    entities = []\n",
    "    idx = data[\"id\"]\n",
    "    if idx in filter_ids:\n",
    "        text = data[\"text\"]\n",
    "        object_list  = data[\"entitie\"]\n",
    "\n",
    "        for label_object in object_list :\n",
    "            start_offset = label_object[0]\n",
    "            end_offset = label_object[1]\n",
    "            label = label_object[2]\n",
    "            entities.append((start_offset, end_offset, label))\n",
    "\n",
    "        spacy_entry = (text, {\"entities\": entities})\n",
    "        TRAINING_DATA.append(spacy_entry)"
   ]
  },
  {
   "cell_type": "code",
   "execution_count": 24,
   "metadata": {},
   "outputs": [],
   "source": [
    "with open(\"./preprocess_data/poi_entitie.json\", \"r\") as read_file:\n",
    "    objects = json.load(read_file)\n",
    "TRAINING_POI = []\n",
    "for data in objects:\n",
    "    entities = []\n",
    "    idx = data[\"id\"]\n",
    "    if idx in filter_ids:\n",
    "        text = data[\"text\"]\n",
    "        object_list  = data[\"entitie\"]\n",
    "\n",
    "        for label_object in object_list :\n",
    "            start_offset = label_object[0]\n",
    "            end_offset = label_object[1]\n",
    "            label = label_object[2]\n",
    "            entities.append((start_offset, end_offset, label))\n",
    "\n",
    "        spacy_entry = (text, {\"entities\": entities})\n",
    "        TRAINING_POI.append(spacy_entry)"
   ]
  },
  {
   "cell_type": "code",
   "execution_count": null,
   "metadata": {},
   "outputs": [],
   "source": [
    "with open(\"./preprocess_data/street_entitie.json\", \"r\") as read_file:\n",
    "    objects = json.load(read_file)\n",
    "TRAINING_STREET = []\n",
    "for data in objects:\n",
    "    entities = []\n",
    "    idx = data[\"id\"]\n",
    "    if idx in filter_ids:\n",
    "        text = data[\"text\"]\n",
    "        object_list  = data[\"entitie\"]\n",
    "\n",
    "        for label_object in object_list :\n",
    "            start_offset = label_object[0]\n",
    "            end_offset = label_object[1]\n",
    "            label = label_object[2]\n",
    "            entities.append((start_offset, end_offset, label))\n",
    "\n",
    "        spacy_entry = (text, {\"entities\": entities})\n",
    "        TRAINING_STREET.append(spacy_entry)"
   ]
  },
  {
   "cell_type": "code",
   "execution_count": null,
   "metadata": {},
   "outputs": [],
   "source": [
    "NOISE_DATA = []\n",
    "address = nan_df['raw_address']\n",
    "for text in address:\n",
    "    spacy_entry = (text, {\"entities\": []})\n",
    "    NOISE_DATA.append(spacy_entry)"
   ]
  },
  {
   "cell_type": "code",
   "execution_count": null,
   "metadata": {},
   "outputs": [],
   "source": [
    "print(len(TRAINING_DATA))\n",
    "print(len(TRAINING_POI))\n",
    "print(len(TRAINING_STREET))\n",
    "print(len(NOISE_DATA))"
   ]
  },
  {
   "cell_type": "code",
   "execution_count": null,
   "metadata": {},
   "outputs": [],
   "source": [
    "TRAINING_DATA = [d for d in TRAINING_DATA if len(d[1]['entities']) > 0 ]\n",
    "TRAINING_POI = [d for d in TRAINING_POI if len(d[1]['entities']) > 0 ]\n",
    "TRAINING_STREET = [d for d in TRAINING_STREET if len(d[1]['entities']) > 0 ]\n",
    "\n",
    "NOISE_DATA = [d for d in NOISE_DATA if len(d[1]['entities']) == 0 ]"
   ]
  },
  {
   "cell_type": "code",
   "execution_count": null,
   "metadata": {},
   "outputs": [],
   "source": [
    "print(len(TRAINING_DATA))\n",
    "print(len(TRAINING_POI))\n",
    "print(len(TRAINING_STREET))\n",
    "print(len(NOISE_DATA))"
   ]
  },
  {
   "cell_type": "code",
   "execution_count": null,
   "metadata": {},
   "outputs": [],
   "source": [
    "from train import train_model"
   ]
  },
  {
   "cell_type": "code",
   "execution_count": null,
   "metadata": {},
   "outputs": [],
   "source": [
    "train_model(TRAINING_STREET, 40, \"filter_street\")\n",
    "# train_model(TRAINING_POI, 40, \"filter_poi\")\n",
    "# train_model(TRAINING_DATA, 40, \"filter_model_2\")"
   ]
  }
 ],
 "metadata": {
  "kernelspec": {
   "display_name": "Python 3",
   "language": "python",
   "name": "python3"
  },
  "language_info": {
   "codemirror_mode": {
    "name": "ipython",
    "version": 3
   },
   "file_extension": ".py",
   "mimetype": "text/x-python",
   "name": "python",
   "nbconvert_exporter": "python",
   "pygments_lexer": "ipython3",
   "version": "3.6.10"
  }
 },
 "nbformat": 4,
 "nbformat_minor": 2
}
