{
 "cells": [
  {
   "cell_type": "code",
   "execution_count": 20,
   "metadata": {},
   "outputs": [],
   "source": [
    "filter_df = pd.read_csv(\"./preprocess_data/filter_split.csv\")\n",
    "filter_ids = filter_df['id'].to_list()"
   ]
  },
  {
   "cell_type": "code",
   "execution_count": 21,
   "metadata": {},
   "outputs": [],
   "source": [
    "poi_df = pd.read_csv(\"./preprocess_data/filter_POI.csv\")\n",
    "poi_ids = filter_df['id'].to_list()"
   ]
  },
  {
   "cell_type": "code",
   "execution_count": 22,
   "metadata": {},
   "outputs": [],
   "source": [
    "street_df = pd.read_csv(\"./preprocess_data/filter_street.csv\")\n",
    "street_df = filter_df['id'].to_list()"
   ]
  },
  {
   "cell_type": "code",
   "execution_count": 38,
   "metadata": {},
   "outputs": [],
   "source": [
    "nan_df = pd.read_csv(\"./preprocess_data/no_ans.csv\")"
   ]
  },
  {
   "cell_type": "code",
   "execution_count": 23,
   "metadata": {},
   "outputs": [],
   "source": [
    "import json\n",
    "with open(\"./preprocess_data/entitie.json\", \"r\") as read_file:\n",
    "    objects = json.load(read_file)\n",
    "TRAINING_DATA = []\n",
    "for data in objects:\n",
    "    entities = []\n",
    "    idx = data[\"id\"]\n",
    "    if idx in filter_ids:\n",
    "        text = data[\"text\"]\n",
    "        object_list  = data[\"entitie\"]\n",
    "\n",
    "        for label_object in object_list :\n",
    "            start_offset = label_object[0]\n",
    "            end_offset = label_object[1]\n",
    "            label = label_object[2]\n",
    "            entities.append((start_offset, end_offset, label))\n",
    "\n",
    "        spacy_entry = (text, {\"entities\": entities})\n",
    "        TRAINING_DATA.append(spacy_entry)"
   ]
  },
  {
   "cell_type": "code",
   "execution_count": 24,
   "metadata": {},
   "outputs": [],
   "source": [
    "with open(\"./preprocess_data/poi_entitie.json\", \"r\") as read_file:\n",
    "    objects = json.load(read_file)\n",
    "TRAINING_POI = []\n",
    "for data in objects:\n",
    "    entities = []\n",
    "    idx = data[\"id\"]\n",
    "    if idx in filter_ids:\n",
    "        text = data[\"text\"]\n",
    "        object_list  = data[\"entitie\"]\n",
    "\n",
    "        for label_object in object_list :\n",
    "            start_offset = label_object[0]\n",
    "            end_offset = label_object[1]\n",
    "            label = label_object[2]\n",
    "            entities.append((start_offset, end_offset, label))\n",
    "\n",
    "        spacy_entry = (text, {\"entities\": entities})\n",
    "        TRAINING_POI.append(spacy_entry)"
   ]
  },
  {
   "cell_type": "code",
   "execution_count": 25,
   "metadata": {},
   "outputs": [],
   "source": [
    "with open(\"./preprocess_data/street_entitie.json\", \"r\") as read_file:\n",
    "    objects = json.load(read_file)\n",
    "TRAINING_STREET = []\n",
    "for data in objects:\n",
    "    entities = []\n",
    "    idx = data[\"id\"]\n",
    "    if idx in filter_ids:\n",
    "        text = data[\"text\"]\n",
    "        object_list  = data[\"entitie\"]\n",
    "\n",
    "        for label_object in object_list :\n",
    "            start_offset = label_object[0]\n",
    "            end_offset = label_object[1]\n",
    "            label = label_object[2]\n",
    "            entities.append((start_offset, end_offset, label))\n",
    "\n",
    "        spacy_entry = (text, {\"entities\": entities})\n",
    "        TRAINING_STREET.append(spacy_entry)"
   ]
  },
  {
   "cell_type": "code",
   "execution_count": 43,
   "metadata": {},
   "outputs": [
    {
     "data": {
      "text/html": [
       "<div>\n",
       "<style scoped>\n",
       "    .dataframe tbody tr th:only-of-type {\n",
       "        vertical-align: middle;\n",
       "    }\n",
       "\n",
       "    .dataframe tbody tr th {\n",
       "        vertical-align: top;\n",
       "    }\n",
       "\n",
       "    .dataframe thead th {\n",
       "        text-align: right;\n",
       "    }\n",
       "</style>\n",
       "<table border=\"1\" class=\"dataframe\">\n",
       "  <thead>\n",
       "    <tr style=\"text-align: right;\">\n",
       "      <th></th>\n",
       "      <th>Unnamed: 0</th>\n",
       "      <th>id</th>\n",
       "      <th>raw_address</th>\n",
       "      <th>POI/street</th>\n",
       "      <th>POI</th>\n",
       "      <th>street</th>\n",
       "    </tr>\n",
       "  </thead>\n",
       "  <tbody>\n",
       "    <tr>\n",
       "      <th>0</th>\n",
       "      <td>1</td>\n",
       "      <td>1</td>\n",
       "      <td>aye, jati sampurna</td>\n",
       "      <td>NaN</td>\n",
       "      <td>NaN</td>\n",
       "      <td>NaN</td>\n",
       "    </tr>\n",
       "    <tr>\n",
       "      <th>1</th>\n",
       "      <td>14</td>\n",
       "      <td>14</td>\n",
       "      <td>kamp utan jaya, 23 rt 3 rw 8 16433 beji</td>\n",
       "      <td>NaN</td>\n",
       "      <td>NaN</td>\n",
       "      <td>NaN</td>\n",
       "    </tr>\n",
       "    <tr>\n",
       "      <th>2</th>\n",
       "      <td>24</td>\n",
       "      <td>24</td>\n",
       "      <td>angg raya i, jatinegara cakung</td>\n",
       "      <td>NaN</td>\n",
       "      <td>NaN</td>\n",
       "      <td>NaN</td>\n",
       "    </tr>\n",
       "    <tr>\n",
       "      <th>3</th>\n",
       "      <td>41</td>\n",
       "      <td>41</td>\n",
       "      <td>aa gallery sport pasar muara labuh sungai pagu</td>\n",
       "      <td>NaN</td>\n",
       "      <td>NaN</td>\n",
       "      <td>NaN</td>\n",
       "    </tr>\n",
       "    <tr>\n",
       "      <th>4</th>\n",
       "      <td>42</td>\n",
       "      <td>42</td>\n",
       "      <td>raya kopo babakan asih bojongloa kaler</td>\n",
       "      <td>NaN</td>\n",
       "      <td>NaN</td>\n",
       "      <td>NaN</td>\n",
       "    </tr>\n",
       "  </tbody>\n",
       "</table>\n",
       "</div>"
      ],
      "text/plain": [
       "   Unnamed: 0  id                                     raw_address  POI/street  \\\n",
       "0           1   1                              aye, jati sampurna         NaN   \n",
       "1          14  14         kamp utan jaya, 23 rt 3 rw 8 16433 beji         NaN   \n",
       "2          24  24                  angg raya i, jatinegara cakung         NaN   \n",
       "3          41  41  aa gallery sport pasar muara labuh sungai pagu         NaN   \n",
       "4          42  42          raya kopo babakan asih bojongloa kaler         NaN   \n",
       "\n",
       "   POI  street  \n",
       "0  NaN     NaN  \n",
       "1  NaN     NaN  \n",
       "2  NaN     NaN  \n",
       "3  NaN     NaN  \n",
       "4  NaN     NaN  "
      ]
     },
     "execution_count": 43,
     "metadata": {},
     "output_type": "execute_result"
    }
   ],
   "source": [
    "nan_df.head()"
   ]
  },
  {
   "cell_type": "code",
   "execution_count": 44,
   "metadata": {},
   "outputs": [],
   "source": [
    "NOISE_DATA = []\n",
    "address = nan_df['raw_address'].to_list()\n",
    "for text in address:\n",
    "    spacy_entry = (text, {\"entities\": []})\n",
    "    NOISE_DATA.append(spacy_entry)"
   ]
  },
  {
   "cell_type": "code",
   "execution_count": 45,
   "metadata": {},
   "outputs": [
    {
     "name": "stdout",
     "output_type": "stream",
     "text": [
      "78624\n",
      "47991\n",
      "73262\n",
      "31993\n"
     ]
    }
   ],
   "source": [
    "print(len(TRAINING_DATA))\n",
    "print(len(TRAINING_POI))\n",
    "print(len(TRAINING_STREET))\n",
    "print(len(NOISE_DATA))"
   ]
  },
  {
   "cell_type": "code",
   "execution_count": 46,
   "metadata": {},
   "outputs": [],
   "source": [
    "TRAINING_DATA = [d for d in TRAINING_DATA if len(d[1]['entities']) > 0 ]\n",
    "TRAINING_POI = [d for d in TRAINING_POI if len(d[1]['entities']) > 0 ]\n",
    "TRAINING_STREET = [d for d in TRAINING_STREET if len(d[1]['entities']) > 0 ]\n",
    "\n",
    "NOISE_DATA = [d for d in NOISE_DATA if len(d[1]['entities']) == 0 ]"
   ]
  },
  {
   "cell_type": "code",
   "execution_count": 47,
   "metadata": {},
   "outputs": [
    {
     "name": "stdout",
     "output_type": "stream",
     "text": [
      "78624\n",
      "47991\n",
      "73262\n",
      "31993\n"
     ]
    }
   ],
   "source": [
    "print(len(TRAINING_DATA))\n",
    "print(len(TRAINING_POI))\n",
    "print(len(TRAINING_STREET))\n",
    "print(len(NOISE_DATA))"
   ]
  },
  {
   "cell_type": "code",
   "execution_count": 56,
   "metadata": {},
   "outputs": [
    {
     "data": {
      "text/plain": [
       "True"
      ]
     },
     "execution_count": 56,
     "metadata": {},
     "output_type": "execute_result"
    }
   ],
   "source": [
    "from train import train_model\n",
    "spacy.prefer_gpu()"
   ]
  },
  {
   "cell_type": "code",
   "execution_count": 57,
   "metadata": {},
   "outputs": [
    {
     "name": "stdout",
     "output_type": "stream",
     "text": [
      "14652\n"
     ]
    }
   ],
   "source": [
    "import random\n",
    "nan_data = random.sample(NOISE_DATA, int(len(TRAINING_STREET)/5))\n",
    "print(len(nan_data))"
   ]
  },
  {
   "cell_type": "code",
   "execution_count": null,
   "metadata": {},
   "outputs": [
    {
     "name": "stdout",
     "output_type": "stream",
     "text": [
      "data size:  87914\n",
      "0  :  13177.561317255\n",
      "1  :  8471.822362323446\n"
     ]
    }
   ],
   "source": [
    "train_model(TRAINING_STREET+nan_data, 40, \"filter_street\")\n",
    "# train_model(TRAINING_POI, 40, \"filter_poi\")\n",
    "# train_model(TRAINING_DATA, 40, \"filter_model_2\")"
   ]
  },
  {
   "cell_type": "code",
   "execution_count": null,
   "metadata": {},
   "outputs": [],
   "source": [
    "nan_data = random.sample(NOISE_DATA, int(len(TRAINING_DATA)/5))\n",
    "train_model(TRAINING_DATA + nan_data, 40, \"filter_model_2\")"
   ]
  }
 ],
 "metadata": {
  "kernelspec": {
   "display_name": "Python 3",
   "language": "python",
   "name": "python3"
  },
  "language_info": {
   "codemirror_mode": {
    "name": "ipython",
    "version": 3
   },
   "file_extension": ".py",
   "mimetype": "text/x-python",
   "name": "python",
   "nbconvert_exporter": "python",
   "pygments_lexer": "ipython3",
   "version": "3.6.10"
  }
 },
 "nbformat": 4,
 "nbformat_minor": 2
}
