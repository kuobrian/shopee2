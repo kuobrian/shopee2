{
 "cells": [
  {
   "cell_type": "code",
   "execution_count": 1,
   "metadata": {},
   "outputs": [],
   "source": [
    "import numpy as np \n",
    "import pandas as pd"
   ]
  },
  {
   "cell_type": "code",
   "execution_count": 2,
   "metadata": {},
   "outputs": [
    {
     "data": {
      "text/html": [
       "<div>\n",
       "<style scoped>\n",
       "    .dataframe tbody tr th:only-of-type {\n",
       "        vertical-align: middle;\n",
       "    }\n",
       "\n",
       "    .dataframe tbody tr th {\n",
       "        vertical-align: top;\n",
       "    }\n",
       "\n",
       "    .dataframe thead th {\n",
       "        text-align: right;\n",
       "    }\n",
       "</style>\n",
       "<table border=\"1\" class=\"dataframe\">\n",
       "  <thead>\n",
       "    <tr style=\"text-align: right;\">\n",
       "      <th></th>\n",
       "      <th>id</th>\n",
       "      <th>raw_address</th>\n",
       "    </tr>\n",
       "  </thead>\n",
       "  <tbody>\n",
       "    <tr>\n",
       "      <th>0</th>\n",
       "      <td>0</td>\n",
       "      <td>s. par 53 sidanegara 4 cilacap tengah</td>\n",
       "    </tr>\n",
       "    <tr>\n",
       "      <th>1</th>\n",
       "      <td>1</td>\n",
       "      <td>angg per, baloi indah kel. lubuk baja</td>\n",
       "    </tr>\n",
       "    <tr>\n",
       "      <th>2</th>\n",
       "      <td>2</td>\n",
       "      <td>asma laun, mand imog,</td>\n",
       "    </tr>\n",
       "    <tr>\n",
       "      <th>3</th>\n",
       "      <td>3</td>\n",
       "      <td>ud agung rej, raya nga sri wedari karanganyar</td>\n",
       "    </tr>\n",
       "    <tr>\n",
       "      <th>4</th>\n",
       "      <td>4</td>\n",
       "      <td>cut mutia, 35 baiturrahman</td>\n",
       "    </tr>\n",
       "  </tbody>\n",
       "</table>\n",
       "</div>"
      ],
      "text/plain": [
       "   id                                    raw_address\n",
       "0   0          s. par 53 sidanegara 4 cilacap tengah\n",
       "1   1          angg per, baloi indah kel. lubuk baja\n",
       "2   2                          asma laun, mand imog,\n",
       "3   3  ud agung rej, raya nga sri wedari karanganyar\n",
       "4   4                     cut mutia, 35 baiturrahman"
      ]
     },
     "execution_count": 2,
     "metadata": {},
     "output_type": "execute_result"
    }
   ],
   "source": [
    "df = pd.read_csv('Address Elements Extraction Dataset/train.csv')\n",
    "df_test = pd.read_csv('Address Elements Extraction Dataset/test.csv')\n",
    "df_test.head()"
   ]
  },
  {
   "cell_type": "code",
   "execution_count": 3,
   "metadata": {},
   "outputs": [
    {
     "data": {
      "text/html": [
       "<div>\n",
       "<style scoped>\n",
       "    .dataframe tbody tr th:only-of-type {\n",
       "        vertical-align: middle;\n",
       "    }\n",
       "\n",
       "    .dataframe tbody tr th {\n",
       "        vertical-align: top;\n",
       "    }\n",
       "\n",
       "    .dataframe thead th {\n",
       "        text-align: right;\n",
       "    }\n",
       "</style>\n",
       "<table border=\"1\" class=\"dataframe\">\n",
       "  <thead>\n",
       "    <tr style=\"text-align: right;\">\n",
       "      <th></th>\n",
       "      <th>id</th>\n",
       "      <th>raw_address</th>\n",
       "      <th>POI/street</th>\n",
       "      <th>POI</th>\n",
       "      <th>street</th>\n",
       "    </tr>\n",
       "  </thead>\n",
       "  <tbody>\n",
       "    <tr>\n",
       "      <th>0</th>\n",
       "      <td>0</td>\n",
       "      <td>jl kapuk timur delta sili iii lippo cika 11 a ...</td>\n",
       "      <td>/jl kapuk timur delta sili iii lippo cika</td>\n",
       "      <td>NaN</td>\n",
       "      <td>jl kapuk timur delta sili iii lippo cika</td>\n",
       "    </tr>\n",
       "    <tr>\n",
       "      <th>1</th>\n",
       "      <td>1</td>\n",
       "      <td>aye, jati sampurna</td>\n",
       "      <td>NaN</td>\n",
       "      <td>NaN</td>\n",
       "      <td>NaN</td>\n",
       "    </tr>\n",
       "    <tr>\n",
       "      <th>2</th>\n",
       "      <td>2</td>\n",
       "      <td>setu siung 119 rt 5 1 13880 cipayung</td>\n",
       "      <td>/siung</td>\n",
       "      <td>NaN</td>\n",
       "      <td>siung</td>\n",
       "    </tr>\n",
       "    <tr>\n",
       "      <th>3</th>\n",
       "      <td>3</td>\n",
       "      <td>toko dita, kertosono</td>\n",
       "      <td>toko dita/</td>\n",
       "      <td>toko dita</td>\n",
       "      <td>NaN</td>\n",
       "    </tr>\n",
       "    <tr>\n",
       "      <th>4</th>\n",
       "      <td>4</td>\n",
       "      <td>jl. orde baru</td>\n",
       "      <td>/jl. orde baru</td>\n",
       "      <td>NaN</td>\n",
       "      <td>jl. orde baru</td>\n",
       "    </tr>\n",
       "  </tbody>\n",
       "</table>\n",
       "</div>"
      ],
      "text/plain": [
       "   id                                        raw_address  \\\n",
       "0   0  jl kapuk timur delta sili iii lippo cika 11 a ...   \n",
       "1   1                                 aye, jati sampurna   \n",
       "2   2               setu siung 119 rt 5 1 13880 cipayung   \n",
       "3   3                               toko dita, kertosono   \n",
       "4   4                                      jl. orde baru   \n",
       "\n",
       "                                  POI/street        POI  \\\n",
       "0  /jl kapuk timur delta sili iii lippo cika        NaN   \n",
       "1                                        NaN        NaN   \n",
       "2                                     /siung        NaN   \n",
       "3                                 toko dita/  toko dita   \n",
       "4                             /jl. orde baru        NaN   \n",
       "\n",
       "                                     street  \n",
       "0  jl kapuk timur delta sili iii lippo cika  \n",
       "1                                       NaN  \n",
       "2                                     siung  \n",
       "3                                       NaN  \n",
       "4                             jl. orde baru  "
      ]
     },
     "execution_count": 3,
     "metadata": {},
     "output_type": "execute_result"
    }
   ],
   "source": [
    "df[['POI', 'street']] = df['POI/street'].str.split('/', 1, expand=True)\n",
    "df['POI/street'].replace('/', np.nan, inplace=True)\n",
    "df['POI'].replace('', np.nan, inplace=True)\n",
    "df['street'].replace('', np.nan, inplace=True)\n",
    "df.head()"
   ]
  },
  {
   "cell_type": "code",
   "execution_count": 5,
   "metadata": {},
   "outputs": [
    {
     "data": {
      "text/html": [
       "<div>\n",
       "<style scoped>\n",
       "    .dataframe tbody tr th:only-of-type {\n",
       "        vertical-align: middle;\n",
       "    }\n",
       "\n",
       "    .dataframe tbody tr th {\n",
       "        vertical-align: top;\n",
       "    }\n",
       "\n",
       "    .dataframe thead th {\n",
       "        text-align: right;\n",
       "    }\n",
       "</style>\n",
       "<table border=\"1\" class=\"dataframe\">\n",
       "  <thead>\n",
       "    <tr style=\"text-align: right;\">\n",
       "      <th></th>\n",
       "      <th>Total</th>\n",
       "      <th>Percentage</th>\n",
       "    </tr>\n",
       "  </thead>\n",
       "  <tbody>\n",
       "    <tr>\n",
       "      <th>POI</th>\n",
       "      <td>178509</td>\n",
       "      <td>59.50</td>\n",
       "    </tr>\n",
       "    <tr>\n",
       "      <th>street</th>\n",
       "      <td>70143</td>\n",
       "      <td>23.38</td>\n",
       "    </tr>\n",
       "    <tr>\n",
       "      <th>POI/street</th>\n",
       "      <td>31993</td>\n",
       "      <td>10.66</td>\n",
       "    </tr>\n",
       "    <tr>\n",
       "      <th>raw_address</th>\n",
       "      <td>0</td>\n",
       "      <td>0.00</td>\n",
       "    </tr>\n",
       "    <tr>\n",
       "      <th>id</th>\n",
       "      <td>0</td>\n",
       "      <td>0.00</td>\n",
       "    </tr>\n",
       "  </tbody>\n",
       "</table>\n",
       "</div>"
      ],
      "text/plain": [
       "              Total  Percentage\n",
       "POI          178509       59.50\n",
       "street        70143       23.38\n",
       "POI/street    31993       10.66\n",
       "raw_address       0        0.00\n",
       "id                0        0.00"
      ]
     },
     "execution_count": 5,
     "metadata": {},
     "output_type": "execute_result"
    }
   ],
   "source": [
    "def missing_value_of_data(data):\n",
    "    total = data.isnull().sum().sort_values(ascending=False)\n",
    "    percentage = round(total/data.shape[0]*100,2)\n",
    "    return pd.concat([total,percentage], axis=1, keys=['Total','Percentage'])\n",
    "missing_value_of_data(df)"
   ]
  },
  {
   "cell_type": "code",
   "execution_count": 6,
   "metadata": {},
   "outputs": [
    {
     "data": {
      "text/html": [
       "<div>\n",
       "<style scoped>\n",
       "    .dataframe tbody tr th:only-of-type {\n",
       "        vertical-align: middle;\n",
       "    }\n",
       "\n",
       "    .dataframe tbody tr th {\n",
       "        vertical-align: top;\n",
       "    }\n",
       "\n",
       "    .dataframe thead th {\n",
       "        text-align: right;\n",
       "    }\n",
       "</style>\n",
       "<table border=\"1\" class=\"dataframe\">\n",
       "  <thead>\n",
       "    <tr style=\"text-align: right;\">\n",
       "      <th></th>\n",
       "      <th>Columns</th>\n",
       "      <th>Duplicate count</th>\n",
       "    </tr>\n",
       "  </thead>\n",
       "  <tbody>\n",
       "    <tr>\n",
       "      <th>0</th>\n",
       "      <td>id</td>\n",
       "      <td>0</td>\n",
       "    </tr>\n",
       "    <tr>\n",
       "      <th>1</th>\n",
       "      <td>raw_address</td>\n",
       "      <td>0</td>\n",
       "    </tr>\n",
       "    <tr>\n",
       "      <th>2</th>\n",
       "      <td>POI/street</td>\n",
       "      <td>4065</td>\n",
       "    </tr>\n",
       "    <tr>\n",
       "      <th>3</th>\n",
       "      <td>POI</td>\n",
       "      <td>12422</td>\n",
       "    </tr>\n",
       "    <tr>\n",
       "      <th>4</th>\n",
       "      <td>street</td>\n",
       "      <td>50254</td>\n",
       "    </tr>\n",
       "  </tbody>\n",
       "</table>\n",
       "</div>"
      ],
      "text/plain": [
       "       Columns  Duplicate count\n",
       "0           id                0\n",
       "1  raw_address                0\n",
       "2   POI/street             4065\n",
       "3          POI            12422\n",
       "4       street            50254"
      ]
     },
     "execution_count": 6,
     "metadata": {},
     "output_type": "execute_result"
    }
   ],
   "source": [
    "def duplicated_values_data(data):\n",
    "    dup=[]\n",
    "    columns=data.columns\n",
    "    for i in data.columns:\n",
    "        dup.append(sum(data[i].duplicated()))\n",
    "    return pd.concat([pd.Series(columns),pd.Series(dup)],axis=1,keys=['Columns','Duplicate count'])\n",
    "df_cleaned = df.dropna()\n",
    "duplicated_values_data(df_cleaned)"
   ]
  },
  {
   "cell_type": "code",
   "execution_count": 7,
   "metadata": {},
   "outputs": [
    {
     "name": "stdout",
     "output_type": "stream",
     "text": [
      "93412\n",
      "95123\n"
     ]
    }
   ],
   "source": [
    "print(len(df['POI'].unique()))\n",
    "print(len(df['street'].unique()))"
   ]
  },
  {
   "cell_type": "code",
   "execution_count": 8,
   "metadata": {},
   "outputs": [
    {
     "data": {
      "text/plain": [
       "perumahan wahana       339\n",
       "palm spring regency    202\n",
       "indomaret              193\n",
       "lebak jero             187\n",
       "toko kelontong         186\n",
       "                      ... \n",
       "ud parmi                 1\n",
       "jembatan deli            1\n",
       "sate madura bu siti      1\n",
       "didi gorden              1\n",
       "dinas dalduk dan kb      1\n",
       "Name: POI, Length: 93411, dtype: int64"
      ]
     },
     "execution_count": 8,
     "metadata": {},
     "output_type": "execute_result"
    }
   ],
   "source": [
    "df['POI'].value_counts()"
   ]
  },
  {
   "cell_type": "code",
   "execution_count": 9,
   "metadata": {},
   "outputs": [
    {
     "data": {
      "text/plain": [
       "jend sudi              1097\n",
       "ahmad yani              877\n",
       "jend ahmad yani         618\n",
       "gajah mada              471\n",
       "pem                     463\n",
       "                       ... \n",
       "margo gg kober            1\n",
       "cem b                     1\n",
       "kusen ii                  1\n",
       "vila mas muti             1\n",
       "tebet timur dalam 9       1\n",
       "Name: street, Length: 95122, dtype: int64"
      ]
     },
     "execution_count": 9,
     "metadata": {},
     "output_type": "execute_result"
    }
   ],
   "source": [
    "df['street'].value_counts()"
   ]
  },
  {
   "cell_type": "code",
   "execution_count": 50,
   "metadata": {},
   "outputs": [
    {
     "name": "stdout",
     "output_type": "stream",
     "text": [
      "(229857, 5)\n",
      "(83341, 5)\n"
     ]
    }
   ],
   "source": [
    "filter_df = df.dropna(subset=['street'])\n",
    "filter_df = filter_df.dropna(subset=['POI'])\n"
   ]
  },
  {
   "cell_type": "code",
   "execution_count": 11,
   "metadata": {},
   "outputs": [
    {
     "data": {
      "text/plain": [
       "indomaret                  174\n",
       "alfamart                   169\n",
       "toko kelontong             167\n",
       "green bay                  147\n",
       "bank rakyat indonesia      144\n",
       "                          ... \n",
       "king water                   1\n",
       "sgc 2                        1\n",
       "new cahaya photo studio      1\n",
       "toko aziz                    1\n",
       "masjid al jumhuriyah         1\n",
       "Name: POI, Length: 70919, dtype: int64"
      ]
     },
     "execution_count": 11,
     "metadata": {},
     "output_type": "execute_result"
    }
   ],
   "source": [
    "filter_df['POI'].value_counts()"
   ]
  },
  {
   "cell_type": "code",
   "execution_count": 12,
   "metadata": {},
   "outputs": [
    {
     "data": {
      "text/plain": [
       "jend sudi                  625\n",
       "ahmad yani                 531\n",
       "jend ahmad yani            394\n",
       "gajah mada                 310\n",
       "soek hatta                 245\n",
       "                          ... \n",
       "kerto menan viii             1\n",
       "jl ahmad marzuki             1\n",
       "kebon jeruk indah utama      1\n",
       "jl boule barat raya          1\n",
       "dukuh pakis                  1\n",
       "Name: street, Length: 33087, dtype: int64"
      ]
     },
     "execution_count": 12,
     "metadata": {},
     "output_type": "execute_result"
    }
   ],
   "source": [
    "filter_df['street'].value_counts()"
   ]
  },
  {
   "cell_type": "code",
   "execution_count": 57,
   "metadata": {},
   "outputs": [
    {
     "data": {
      "text/html": [
       "<div>\n",
       "<style scoped>\n",
       "    .dataframe tbody tr th:only-of-type {\n",
       "        vertical-align: middle;\n",
       "    }\n",
       "\n",
       "    .dataframe tbody tr th {\n",
       "        vertical-align: top;\n",
       "    }\n",
       "\n",
       "    .dataframe thead th {\n",
       "        text-align: right;\n",
       "    }\n",
       "</style>\n",
       "<table border=\"1\" class=\"dataframe\">\n",
       "  <thead>\n",
       "    <tr style=\"text-align: right;\">\n",
       "      <th></th>\n",
       "      <th>id</th>\n",
       "      <th>raw_address</th>\n",
       "      <th>POI/street</th>\n",
       "      <th>POI</th>\n",
       "      <th>street</th>\n",
       "    </tr>\n",
       "  </thead>\n",
       "  <tbody>\n",
       "    <tr>\n",
       "      <th>0</th>\n",
       "      <td>0</td>\n",
       "      <td>jl kapuk timur delta sili iii lippo cika 11 a ...</td>\n",
       "      <td>/jl kapuk timur delta sili iii lippo cika</td>\n",
       "      <td>NaN</td>\n",
       "      <td>jl kapuk timur delta sili iii lippo cika</td>\n",
       "    </tr>\n",
       "    <tr>\n",
       "      <th>1</th>\n",
       "      <td>1</td>\n",
       "      <td>aye, jati sampurna</td>\n",
       "      <td>NaN</td>\n",
       "      <td>NaN</td>\n",
       "      <td>NaN</td>\n",
       "    </tr>\n",
       "    <tr>\n",
       "      <th>2</th>\n",
       "      <td>2</td>\n",
       "      <td>setu siung 119 rt 5 1 13880 cipayung</td>\n",
       "      <td>/siung</td>\n",
       "      <td>NaN</td>\n",
       "      <td>siung</td>\n",
       "    </tr>\n",
       "    <tr>\n",
       "      <th>3</th>\n",
       "      <td>3</td>\n",
       "      <td>toko dita, kertosono</td>\n",
       "      <td>toko dita/</td>\n",
       "      <td>toko dita</td>\n",
       "      <td>NaN</td>\n",
       "    </tr>\n",
       "    <tr>\n",
       "      <th>4</th>\n",
       "      <td>4</td>\n",
       "      <td>jl. orde baru</td>\n",
       "      <td>/jl. orde baru</td>\n",
       "      <td>NaN</td>\n",
       "      <td>jl. orde baru</td>\n",
       "    </tr>\n",
       "  </tbody>\n",
       "</table>\n",
       "</div>"
      ],
      "text/plain": [
       "   id                                        raw_address  \\\n",
       "0   0  jl kapuk timur delta sili iii lippo cika 11 a ...   \n",
       "1   1                                 aye, jati sampurna   \n",
       "2   2               setu siung 119 rt 5 1 13880 cipayung   \n",
       "3   3                               toko dita, kertosono   \n",
       "4   4                                      jl. orde baru   \n",
       "\n",
       "                                  POI/street        POI  \\\n",
       "0  /jl kapuk timur delta sili iii lippo cika        NaN   \n",
       "1                                        NaN        NaN   \n",
       "2                                     /siung        NaN   \n",
       "3                                 toko dita/  toko dita   \n",
       "4                             /jl. orde baru        NaN   \n",
       "\n",
       "                                     street  \n",
       "0  jl kapuk timur delta sili iii lippo cika  \n",
       "1                                       NaN  \n",
       "2                                     siung  \n",
       "3                                       NaN  \n",
       "4                             jl. orde baru  "
      ]
     },
     "execution_count": 57,
     "metadata": {},
     "output_type": "execute_result"
    }
   ],
   "source": [
    "df.head()"
   ]
  },
  {
   "cell_type": "code",
   "execution_count": 56,
   "metadata": {},
   "outputs": [],
   "source": [
    "filter_df.to_csv('./preprocess_data/filter_split.csv')\n",
    "df.to_csv('./preprocess_data/all_split.csv')\n",
    "df.dropna(subset=['street']).to_csv('./preprocess_data/filter_street.csv')\n",
    "df.dropna(subset=['POI']).to_csv('./preprocess_data/filter_POI.csv')"
   ]
  },
  {
   "cell_type": "code",
   "execution_count": 53,
   "metadata": {},
   "outputs": [
    {
     "data": {
      "text/html": [
       "<div>\n",
       "<style scoped>\n",
       "    .dataframe tbody tr th:only-of-type {\n",
       "        vertical-align: middle;\n",
       "    }\n",
       "\n",
       "    .dataframe tbody tr th {\n",
       "        vertical-align: top;\n",
       "    }\n",
       "\n",
       "    .dataframe thead th {\n",
       "        text-align: right;\n",
       "    }\n",
       "</style>\n",
       "<table border=\"1\" class=\"dataframe\">\n",
       "  <thead>\n",
       "    <tr style=\"text-align: right;\">\n",
       "      <th></th>\n",
       "      <th>id</th>\n",
       "      <th>raw_address</th>\n",
       "      <th>POI/street</th>\n",
       "      <th>POI</th>\n",
       "      <th>street</th>\n",
       "    </tr>\n",
       "  </thead>\n",
       "  <tbody>\n",
       "    <tr>\n",
       "      <th>0</th>\n",
       "      <td>0</td>\n",
       "      <td>jl kapuk timur delta sili iii lippo cika 11 a ...</td>\n",
       "      <td>/jl kapuk timur delta sili iii lippo cika</td>\n",
       "      <td>NaN</td>\n",
       "      <td>jl kapuk timur delta sili iii lippo cika</td>\n",
       "    </tr>\n",
       "    <tr>\n",
       "      <th>2</th>\n",
       "      <td>2</td>\n",
       "      <td>setu siung 119 rt 5 1 13880 cipayung</td>\n",
       "      <td>/siung</td>\n",
       "      <td>NaN</td>\n",
       "      <td>siung</td>\n",
       "    </tr>\n",
       "    <tr>\n",
       "      <th>4</th>\n",
       "      <td>4</td>\n",
       "      <td>jl. orde baru</td>\n",
       "      <td>/jl. orde baru</td>\n",
       "      <td>NaN</td>\n",
       "      <td>jl. orde baru</td>\n",
       "    </tr>\n",
       "    <tr>\n",
       "      <th>5</th>\n",
       "      <td>5</td>\n",
       "      <td>raya samb gede, 299 toko bb kids</td>\n",
       "      <td>toko bb kids/raya samb gede</td>\n",
       "      <td>toko bb kids</td>\n",
       "      <td>raya samb gede</td>\n",
       "    </tr>\n",
       "    <tr>\n",
       "      <th>6</th>\n",
       "      <td>6</td>\n",
       "      <td>kem mel raya, no 4 bojong rawalumbu rt 1 36 ra...</td>\n",
       "      <td>/kem mel raya</td>\n",
       "      <td>NaN</td>\n",
       "      <td>kem mel raya</td>\n",
       "    </tr>\n",
       "  </tbody>\n",
       "</table>\n",
       "</div>"
      ],
      "text/plain": [
       "   id                                        raw_address  \\\n",
       "0   0  jl kapuk timur delta sili iii lippo cika 11 a ...   \n",
       "2   2               setu siung 119 rt 5 1 13880 cipayung   \n",
       "4   4                                      jl. orde baru   \n",
       "5   5                   raya samb gede, 299 toko bb kids   \n",
       "6   6  kem mel raya, no 4 bojong rawalumbu rt 1 36 ra...   \n",
       "\n",
       "                                  POI/street           POI  \\\n",
       "0  /jl kapuk timur delta sili iii lippo cika           NaN   \n",
       "2                                     /siung           NaN   \n",
       "4                             /jl. orde baru           NaN   \n",
       "5                toko bb kids/raya samb gede  toko bb kids   \n",
       "6                              /kem mel raya           NaN   \n",
       "\n",
       "                                     street  \n",
       "0  jl kapuk timur delta sili iii lippo cika  \n",
       "2                                     siung  \n",
       "4                             jl. orde baru  \n",
       "5                            raya samb gede  \n",
       "6                              kem mel raya  "
      ]
     },
     "execution_count": 53,
     "metadata": {},
     "output_type": "execute_result"
    }
   ],
   "source": [
    "df.dropna(subset=['street']).head()"
   ]
  },
  {
   "cell_type": "code",
   "execution_count": 54,
   "metadata": {},
   "outputs": [
    {
     "data": {
      "text/html": [
       "<div>\n",
       "<style scoped>\n",
       "    .dataframe tbody tr th:only-of-type {\n",
       "        vertical-align: middle;\n",
       "    }\n",
       "\n",
       "    .dataframe tbody tr th {\n",
       "        vertical-align: top;\n",
       "    }\n",
       "\n",
       "    .dataframe thead th {\n",
       "        text-align: right;\n",
       "    }\n",
       "</style>\n",
       "<table border=\"1\" class=\"dataframe\">\n",
       "  <thead>\n",
       "    <tr style=\"text-align: right;\">\n",
       "      <th></th>\n",
       "      <th>id</th>\n",
       "      <th>raw_address</th>\n",
       "      <th>POI/street</th>\n",
       "      <th>POI</th>\n",
       "      <th>street</th>\n",
       "    </tr>\n",
       "  </thead>\n",
       "  <tbody>\n",
       "    <tr>\n",
       "      <th>3</th>\n",
       "      <td>3</td>\n",
       "      <td>toko dita, kertosono</td>\n",
       "      <td>toko dita/</td>\n",
       "      <td>toko dita</td>\n",
       "      <td>NaN</td>\n",
       "    </tr>\n",
       "    <tr>\n",
       "      <th>5</th>\n",
       "      <td>5</td>\n",
       "      <td>raya samb gede, 299 toko bb kids</td>\n",
       "      <td>toko bb kids/raya samb gede</td>\n",
       "      <td>toko bb kids</td>\n",
       "      <td>raya samb gede</td>\n",
       "    </tr>\n",
       "    <tr>\n",
       "      <th>10</th>\n",
       "      <td>10</td>\n",
       "      <td>cikahuripan sd neg boj 02 klap boj, no 5 16877</td>\n",
       "      <td>sd negeri bojong 02/klap boj</td>\n",
       "      <td>sd negeri bojong 02</td>\n",
       "      <td>klap boj</td>\n",
       "    </tr>\n",
       "    <tr>\n",
       "      <th>11</th>\n",
       "      <td>11</td>\n",
       "      <td>yaya atohar,</td>\n",
       "      <td>yayasan atohariyah/</td>\n",
       "      <td>yayasan atohariyah</td>\n",
       "      <td>NaN</td>\n",
       "    </tr>\n",
       "    <tr>\n",
       "      <th>15</th>\n",
       "      <td>15</td>\n",
       "      <td>kampung.gudang areng,desa:anyer, kecamatan:any...</td>\n",
       "      <td>gudang areng/</td>\n",
       "      <td>gudang areng</td>\n",
       "      <td>NaN</td>\n",
       "    </tr>\n",
       "  </tbody>\n",
       "</table>\n",
       "</div>"
      ],
      "text/plain": [
       "    id                                        raw_address  \\\n",
       "3    3                               toko dita, kertosono   \n",
       "5    5                   raya samb gede, 299 toko bb kids   \n",
       "10  10     cikahuripan sd neg boj 02 klap boj, no 5 16877   \n",
       "11  11                                       yaya atohar,   \n",
       "15  15  kampung.gudang areng,desa:anyer, kecamatan:any...   \n",
       "\n",
       "                      POI/street                  POI          street  \n",
       "3                     toko dita/            toko dita             NaN  \n",
       "5    toko bb kids/raya samb gede         toko bb kids  raya samb gede  \n",
       "10  sd negeri bojong 02/klap boj  sd negeri bojong 02        klap boj  \n",
       "11           yayasan atohariyah/   yayasan atohariyah             NaN  \n",
       "15                 gudang areng/         gudang areng             NaN  "
      ]
     },
     "execution_count": 54,
     "metadata": {},
     "output_type": "execute_result"
    }
   ],
   "source": [
    "df.dropna(subset=['POI']).head()"
   ]
  },
  {
   "cell_type": "code",
   "execution_count": 22,
   "metadata": {},
   "outputs": [],
   "source": [
    "import ahocorasick\n",
    "from copy import deepcopy\n",
    "\n",
    "def _build_aho(words):\n",
    "    aho = ahocorasick.Automaton()\n",
    "    for idx, key in enumerate(words):\n",
    "        \n",
    "        aho.add_word(key, (idx, key))\n",
    "\n",
    "    return aho\n",
    "\n",
    "def format_data(text, poi, street):\n",
    "    entities = []\n",
    "    _text = deepcopy(text)\n",
    "    if isinstance(poi, str):\n",
    "        aho = _build_aho([poi])\n",
    "        aho.make_automaton()\n",
    "        latest_char_idx = 0\n",
    "        for end, (_, word) in aho.iter(_text):\n",
    "            start = end - len(word) + 1\n",
    "            \n",
    "            if start < latest_char_idx:\n",
    "                continue\n",
    "\n",
    "            entities.append([start, end + 1, 'POI'])\n",
    "            _text = _text.replace(word, \" \" * len(word))\n",
    "            latest_char_idx = end + 1\n",
    "    if isinstance(street, str):\n",
    "        aho = _build_aho([street])\n",
    "        aho.make_automaton()\n",
    "        latest_char_idx = 0\n",
    "\n",
    "        for end, (_, word) in aho.iter(_text):\n",
    "            start = end - len(word) + 1\n",
    "            if start < latest_char_idx:\n",
    "                continue\n",
    "\n",
    "            entities.append([start, end + 1, 'STREET'])\n",
    "            latest_char_idx = end + 1\n",
    "    \n",
    "    return text, entities"
   ]
  },
  {
   "cell_type": "code",
   "execution_count": 23,
   "metadata": {},
   "outputs": [
    {
     "ename": "NameError",
     "evalue": "name 'exampleds' is not defined",
     "output_type": "error",
     "traceback": [
      "\u001b[1;31m---------------------------------------------------------------------------\u001b[0m",
      "\u001b[1;31mNameError\u001b[0m                                 Traceback (most recent call last)",
      "\u001b[1;32m<ipython-input-23-09e5e5c87af6>\u001b[0m in \u001b[0;36m<module>\u001b[1;34m\u001b[0m\n\u001b[0;32m     10\u001b[0m         \u001b[0mprint\u001b[0m\u001b[1;33m(\u001b[0m\u001b[0me\u001b[0m\u001b[1;33m)\u001b[0m\u001b[1;33m\u001b[0m\u001b[1;33m\u001b[0m\u001b[0m\n\u001b[0;32m     11\u001b[0m         \u001b[1;32mbreak\u001b[0m\u001b[1;33m\u001b[0m\u001b[1;33m\u001b[0m\u001b[0m\n\u001b[1;32m---> 12\u001b[1;33m \u001b[0mprint\u001b[0m\u001b[1;33m(\u001b[0m\u001b[0mlen\u001b[0m\u001b[1;33m(\u001b[0m\u001b[0mexampleds\u001b[0m\u001b[1;33m)\u001b[0m\u001b[1;33m)\u001b[0m\u001b[1;33m\u001b[0m\u001b[1;33m\u001b[0m\u001b[0m\n\u001b[0m",
      "\u001b[1;31mNameError\u001b[0m: name 'exampleds' is not defined"
     ]
    }
   ],
   "source": [
    "examples = []\n",
    "for idx in df.index:\n",
    "    try:\n",
    "        row = df.loc[idx]\n",
    "        text, entitie = format_data(row['raw_address'], row['POI'], row['street'])\n",
    "        examples.append({\"id\": idx, \"text\": text, \"entitie\": entitie})\n",
    "    except Exception as e:\n",
    "        print(idx)\n",
    "        print(\"-\" * 50)\n",
    "        print(e)\n",
    "        break\n"
   ]
  },
  {
   "cell_type": "code",
   "execution_count": 26,
   "metadata": {},
   "outputs": [],
   "source": [
    "import json\n",
    "with open('./preprocess_data/entitie.json','w') as f:\n",
    "    json.dump(examples, f, indent=2)"
   ]
  },
  {
   "cell_type": "code",
   "execution_count": 28,
   "metadata": {},
   "outputs": [
    {
     "data": {
      "text/html": [
       "<div>\n",
       "<style scoped>\n",
       "    .dataframe tbody tr th:only-of-type {\n",
       "        vertical-align: middle;\n",
       "    }\n",
       "\n",
       "    .dataframe tbody tr th {\n",
       "        vertical-align: top;\n",
       "    }\n",
       "\n",
       "    .dataframe thead th {\n",
       "        text-align: right;\n",
       "    }\n",
       "</style>\n",
       "<table border=\"1\" class=\"dataframe\">\n",
       "  <thead>\n",
       "    <tr style=\"text-align: right;\">\n",
       "      <th></th>\n",
       "      <th>id</th>\n",
       "      <th>raw_address</th>\n",
       "      <th>POI/street</th>\n",
       "      <th>POI</th>\n",
       "      <th>street</th>\n",
       "    </tr>\n",
       "  </thead>\n",
       "  <tbody>\n",
       "    <tr>\n",
       "      <th>0</th>\n",
       "      <td>0</td>\n",
       "      <td>jl kapuk timur delta sili iii lippo cika 11 a ...</td>\n",
       "      <td>/jl kapuk timur delta sili iii lippo cika</td>\n",
       "      <td>NaN</td>\n",
       "      <td>jl kapuk timur delta sili iii lippo cika</td>\n",
       "    </tr>\n",
       "    <tr>\n",
       "      <th>1</th>\n",
       "      <td>1</td>\n",
       "      <td>aye, jati sampurna</td>\n",
       "      <td>/</td>\n",
       "      <td>NaN</td>\n",
       "      <td>NaN</td>\n",
       "    </tr>\n",
       "    <tr>\n",
       "      <th>2</th>\n",
       "      <td>2</td>\n",
       "      <td>setu siung 119 rt 5 1 13880 cipayung</td>\n",
       "      <td>/siung</td>\n",
       "      <td>NaN</td>\n",
       "      <td>siung</td>\n",
       "    </tr>\n",
       "    <tr>\n",
       "      <th>3</th>\n",
       "      <td>3</td>\n",
       "      <td>toko dita, kertosono</td>\n",
       "      <td>toko dita/</td>\n",
       "      <td>toko dita</td>\n",
       "      <td>NaN</td>\n",
       "    </tr>\n",
       "    <tr>\n",
       "      <th>4</th>\n",
       "      <td>4</td>\n",
       "      <td>jl. orde baru</td>\n",
       "      <td>/jl. orde baru</td>\n",
       "      <td>NaN</td>\n",
       "      <td>jl. orde baru</td>\n",
       "    </tr>\n",
       "  </tbody>\n",
       "</table>\n",
       "</div>"
      ],
      "text/plain": [
       "   id                                        raw_address  \\\n",
       "0   0  jl kapuk timur delta sili iii lippo cika 11 a ...   \n",
       "1   1                                 aye, jati sampurna   \n",
       "2   2               setu siung 119 rt 5 1 13880 cipayung   \n",
       "3   3                               toko dita, kertosono   \n",
       "4   4                                      jl. orde baru   \n",
       "\n",
       "                                  POI/street        POI  \\\n",
       "0  /jl kapuk timur delta sili iii lippo cika        NaN   \n",
       "1                                          /        NaN   \n",
       "2                                     /siung        NaN   \n",
       "3                                 toko dita/  toko dita   \n",
       "4                             /jl. orde baru        NaN   \n",
       "\n",
       "                                     street  \n",
       "0  jl kapuk timur delta sili iii lippo cika  \n",
       "1                                       NaN  \n",
       "2                                     siung  \n",
       "3                                       NaN  \n",
       "4                             jl. orde baru  "
      ]
     },
     "execution_count": 28,
     "metadata": {},
     "output_type": "execute_result"
    }
   ],
   "source": [
    "split_df = pd.read_csv('./split_result.csv')\n",
    "split_df.head()"
   ]
  },
  {
   "cell_type": "code",
   "execution_count": 44,
   "metadata": {},
   "outputs": [],
   "source": [
    "def format_each_data(text, poi, street):\n",
    "    entities_POI = []\n",
    "    entities_STREET = []\n",
    "    _text = deepcopy(text)\n",
    "    \n",
    "    if isinstance(poi, str):\n",
    "        aho = _build_aho([poi])\n",
    "        aho.make_automaton()\n",
    "        latest_char_idx = 0\n",
    "        \n",
    "        for end, (_, word) in aho.iter(_text):\n",
    "            start = end - len(word) + 1\n",
    "            if start < latest_char_idx:\n",
    "                continue\n",
    "            entities_POI.append((start, end + 1, 'POI'))\n",
    "            _text = _text.replace(word, \" \" * len(word))\n",
    "            latest_char_idx = end + 1\n",
    "    if isinstance(street, str):\n",
    "        aho = _build_aho([street])\n",
    "        aho.make_automaton()\n",
    "        latest_char_idx = 0\n",
    "\n",
    "        for end, (_, word) in aho.iter(_text):\n",
    "            start = end - len(word) + 1\n",
    "            if start < latest_char_idx:\n",
    "                continue\n",
    "\n",
    "            entities_STREET.append((start, end + 1, 'STREET'))\n",
    "            latest_char_idx = end + 1\n",
    "    \n",
    "    return entities_POI, entities_STREET"
   ]
  },
  {
   "cell_type": "code",
   "execution_count": 45,
   "metadata": {},
   "outputs": [
    {
     "name": "stdout",
     "output_type": "stream",
     "text": [
      "75351\n",
      "212178\n"
     ]
    }
   ],
   "source": [
    "POIexamples = []\n",
    "STREETexamples = []\n",
    "for idx in df.index:\n",
    "    try:\n",
    "        row = df.loc[idx]\n",
    "        entities_POI, entities_STREET = format_each_data(row['raw_address'], row['POI'], row['street'])\n",
    "        text = row['raw_address']\n",
    "        \n",
    "        \n",
    "        \n",
    "        if entities_POI:\n",
    "            POIexamples.append({\"id\": idx, \"text\": text, \"entitie\": entities_POI})\n",
    "            \n",
    "        if entities_STREET:\n",
    "            STREETexamples.append({\"id\": idx, \"text\": text, \"entitie\": entities_STREET})\n",
    "            \n",
    "            \n",
    "    except Exception as e:\n",
    "        print(idx)\n",
    "        print(\"-\" * 50)\n",
    "        print(e)\n",
    "        break\n",
    "\n",
    "print(len(POIexamples))\n",
    "print(len(STREETexamples))"
   ]
  },
  {
   "cell_type": "code",
   "execution_count": 46,
   "metadata": {},
   "outputs": [
    {
     "name": "stdout",
     "output_type": "stream",
     "text": [
      "[{'id': 3, 'text': 'toko dita, kertosono', 'entitie': [(0, 9, 'POI')]}, {'id': 5, 'text': 'raya samb gede, 299 toko bb kids', 'entitie': [(20, 32, 'POI')]}, {'id': 15, 'text': 'kampung.gudang areng,desa:anyer, kecamatan:anyar, kabupaten: serang, belakang bca anyar', 'entitie': [(8, 20, 'POI')]}, {'id': 17, 'text': 'pangkalan lareh kel.ikurkoto koto panjang.kec koto tangah kota padang', 'entitie': [(0, 15, 'POI')]}, {'id': 21, 'text': 'stadion kobelete,', 'entitie': [(0, 16, 'POI')]}]\n",
      "[{'id': 0, 'text': 'jl kapuk timur delta sili iii lippo cika 11 a cicau cikarang pusat', 'entitie': [(0, 40, 'STREET')]}, {'id': 2, 'text': 'setu siung 119 rt 5 1 13880 cipayung', 'entitie': [(5, 10, 'STREET')]}, {'id': 4, 'text': 'jl. orde baru', 'entitie': [(0, 13, 'STREET')]}, {'id': 5, 'text': 'raya samb gede, 299 toko bb kids', 'entitie': [(0, 14, 'STREET')]}, {'id': 6, 'text': 'kem mel raya, no 4 bojong rawalumbu rt 1 36 rawalumbu', 'entitie': [(0, 12, 'STREET')]}]\n"
     ]
    }
   ],
   "source": [
    "print(POIexamples[:5])\n",
    "print(STREETexamples[:5])"
   ]
  },
  {
   "cell_type": "code",
   "execution_count": 47,
   "metadata": {},
   "outputs": [],
   "source": [
    "with open('./preprocess_data/poi_entitie.json','w') as f:\n",
    "    json.dump(POIexamples, f, indent=2)\n",
    "with open('./preprocess_data/street_entitie.json','w') as f:\n",
    "    json.dump(STREETexamples, f, indent=2)"
   ]
  },
  {
   "cell_type": "code",
   "execution_count": 63,
   "metadata": {},
   "outputs": [],
   "source": [
    "nan_value = df[df['street'].isna()]\n",
    "nan_value = nan_value[nan_value['POI'].isna()]"
   ]
  },
  {
   "cell_type": "code",
   "execution_count": 64,
   "metadata": {},
   "outputs": [
    {
     "data": {
      "text/html": [
       "<div>\n",
       "<style scoped>\n",
       "    .dataframe tbody tr th:only-of-type {\n",
       "        vertical-align: middle;\n",
       "    }\n",
       "\n",
       "    .dataframe tbody tr th {\n",
       "        vertical-align: top;\n",
       "    }\n",
       "\n",
       "    .dataframe thead th {\n",
       "        text-align: right;\n",
       "    }\n",
       "</style>\n",
       "<table border=\"1\" class=\"dataframe\">\n",
       "  <thead>\n",
       "    <tr style=\"text-align: right;\">\n",
       "      <th></th>\n",
       "      <th>id</th>\n",
       "      <th>raw_address</th>\n",
       "      <th>POI/street</th>\n",
       "      <th>POI</th>\n",
       "      <th>street</th>\n",
       "    </tr>\n",
       "  </thead>\n",
       "  <tbody>\n",
       "    <tr>\n",
       "      <th>1</th>\n",
       "      <td>1</td>\n",
       "      <td>aye, jati sampurna</td>\n",
       "      <td>NaN</td>\n",
       "      <td>NaN</td>\n",
       "      <td>NaN</td>\n",
       "    </tr>\n",
       "    <tr>\n",
       "      <th>14</th>\n",
       "      <td>14</td>\n",
       "      <td>kamp utan jaya, 23 rt 3 rw 8 16433 beji</td>\n",
       "      <td>NaN</td>\n",
       "      <td>NaN</td>\n",
       "      <td>NaN</td>\n",
       "    </tr>\n",
       "    <tr>\n",
       "      <th>24</th>\n",
       "      <td>24</td>\n",
       "      <td>angg raya i, jatinegara cakung</td>\n",
       "      <td>NaN</td>\n",
       "      <td>NaN</td>\n",
       "      <td>NaN</td>\n",
       "    </tr>\n",
       "    <tr>\n",
       "      <th>41</th>\n",
       "      <td>41</td>\n",
       "      <td>aa gallery sport pasar muara labuh sungai pagu</td>\n",
       "      <td>NaN</td>\n",
       "      <td>NaN</td>\n",
       "      <td>NaN</td>\n",
       "    </tr>\n",
       "    <tr>\n",
       "      <th>42</th>\n",
       "      <td>42</td>\n",
       "      <td>raya kopo babakan asih bojongloa kaler</td>\n",
       "      <td>NaN</td>\n",
       "      <td>NaN</td>\n",
       "      <td>NaN</td>\n",
       "    </tr>\n",
       "  </tbody>\n",
       "</table>\n",
       "</div>"
      ],
      "text/plain": [
       "    id                                     raw_address POI/street  POI street\n",
       "1    1                              aye, jati sampurna        NaN  NaN    NaN\n",
       "14  14         kamp utan jaya, 23 rt 3 rw 8 16433 beji        NaN  NaN    NaN\n",
       "24  24                  angg raya i, jatinegara cakung        NaN  NaN    NaN\n",
       "41  41  aa gallery sport pasar muara labuh sungai pagu        NaN  NaN    NaN\n",
       "42  42          raya kopo babakan asih bojongloa kaler        NaN  NaN    NaN"
      ]
     },
     "execution_count": 64,
     "metadata": {},
     "output_type": "execute_result"
    }
   ],
   "source": [
    "nan_value.head()"
   ]
  },
  {
   "cell_type": "code",
   "execution_count": 65,
   "metadata": {},
   "outputs": [
    {
     "data": {
      "text/plain": [
       "(31993, 5)"
      ]
     },
     "execution_count": 65,
     "metadata": {},
     "output_type": "execute_result"
    }
   ],
   "source": [
    "nan_value.shape"
   ]
  },
  {
   "cell_type": "code",
   "execution_count": 66,
   "metadata": {},
   "outputs": [],
   "source": [
    "nan_value.to_csv(\"./preprocess_data/no_ans.csv\")"
   ]
  },
  {
   "cell_type": "code",
   "execution_count": 67,
   "metadata": {},
   "outputs": [],
   "source": [
    "address = nan_value['raw_address'].to_list()"
   ]
  },
  {
   "cell_type": "code",
   "execution_count": 69,
   "metadata": {},
   "outputs": [
    {
     "data": {
      "text/plain": [
       "['seti, langensari kel.',\n",
       " 'pluit indah no 11 the mezzanine, rt 7 6 pluit',\n",
       " 'pon coklat aima,']"
      ]
     },
     "execution_count": 69,
     "metadata": {},
     "output_type": "execute_result"
    }
   ],
   "source": [
    "import random\n",
    "random.sample(address, 3)"
   ]
  },
  {
   "cell_type": "code",
   "execution_count": null,
   "metadata": {},
   "outputs": [],
   "source": []
  }
 ],
 "metadata": {
  "kernelspec": {
   "display_name": "Python 3",
   "language": "python",
   "name": "python3"
  },
  "language_info": {
   "codemirror_mode": {
    "name": "ipython",
    "version": 3
   },
   "file_extension": ".py",
   "mimetype": "text/x-python",
   "name": "python",
   "nbconvert_exporter": "python",
   "pygments_lexer": "ipython3",
   "version": "3.6.10"
  }
 },
 "nbformat": 4,
 "nbformat_minor": 4
}
